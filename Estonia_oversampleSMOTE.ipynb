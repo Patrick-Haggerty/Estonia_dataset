{
 "cells": [
  {
   "cell_type": "code",
   "execution_count": 1,
   "metadata": {},
   "outputs": [
    {
     "name": "stdout",
     "output_type": "stream",
     "text": [
      "<bound method NDFrame.head of      PassengerId  Country             Firstname  Lastname Sex  Age Category  \\\n",
      "0              1   Sweden           ARVID KALLE     AADLI   M   62        P   \n",
      "1              2  Estonia                   LEA   AALISTE   F   22        C   \n",
      "2              3  Estonia                  AIRI   AAVASTE   F   21        C   \n",
      "3              4   Sweden                  JURI     AAVIK   M   53        C   \n",
      "4              5   Sweden       BRITTA ELISABET  AHLSTROM   F   55        P   \n",
      "..           ...      ...                   ...       ...  ..  ...      ...   \n",
      "984          985   Sweden  ANNA INGRID BIRGITTA    OSTROM   F   60        P   \n",
      "985          986   Sweden          ELMAR MIKAEL       OUN   M   34        P   \n",
      "986          987   Sweden                   ENN   QUNAPUU   M   77        P   \n",
      "987          988   Sweden                    LY   GUNAPUU   F   87        P   \n",
      "988          989   Sweden                  CARL    OVBERG   M   42        P   \n",
      "\n",
      "     Survived  \n",
      "0           0  \n",
      "1           0  \n",
      "2           0  \n",
      "3           0  \n",
      "4           0  \n",
      "..        ...  \n",
      "984         0  \n",
      "985         1  \n",
      "986         0  \n",
      "987         0  \n",
      "988         1  \n",
      "\n",
      "[989 rows x 8 columns]>\n"
     ]
    }
   ],
   "source": [
    "import pandas as pd\n",
    "\n",
    "from sklearn.model_selection import train_test_split\n",
    "data = pd.read_csv(r'C:\\Users\\16pha\\myenv\\datasets\\estonia_data.csv')\n",
    "print(data.head)"
   ]
  },
  {
   "cell_type": "code",
   "execution_count": 2,
   "metadata": {},
   "outputs": [
    {
     "name": "stdout",
     "output_type": "stream",
     "text": [
      "<bound method NDFrame.head of     Sex  Age Category  Survived\n",
      "0     M   62        P         0\n",
      "1     F   22        C         0\n",
      "2     F   21        C         0\n",
      "3     M   53        C         0\n",
      "4     F   55        P         0\n",
      "..   ..  ...      ...       ...\n",
      "984   F   60        P         0\n",
      "985   M   34        P         1\n",
      "986   M   77        P         0\n",
      "987   F   87        P         0\n",
      "988   M   42        P         1\n",
      "\n",
      "[989 rows x 4 columns]>\n"
     ]
    }
   ],
   "source": [
    "drop_cols = ['PassengerId','Country','Firstname','Lastname']\n",
    "data = data.drop(drop_cols,axis=1)\n",
    "print(data.head)"
   ]
  },
  {
   "cell_type": "code",
   "execution_count": 3,
   "metadata": {},
   "outputs": [
    {
     "name": "stdout",
     "output_type": "stream",
     "text": [
      "<bound method NDFrame.head of     Sex  Age  Category  Survived\n",
      "0     M   62         1         0\n",
      "1     F   22         0         0\n",
      "2     F   21         0         0\n",
      "3     M   53         0         0\n",
      "4     F   55         1         0\n",
      "..   ..  ...       ...       ...\n",
      "984   F   60         1         0\n",
      "985   M   34         1         1\n",
      "986   M   77         1         0\n",
      "987   F   87         1         0\n",
      "988   M   42         1         1\n",
      "\n",
      "[989 rows x 4 columns]>\n"
     ]
    }
   ],
   "source": [
    "from sklearn.preprocessing import LabelEncoder\n",
    "Category = data['Category']\n",
    "label_encoder = LabelEncoder()\n",
    "Category = label_encoder.fit_transform(Category)\n",
    "data['Category'] = Category\n",
    "print(data.head)"
   ]
  },
  {
   "cell_type": "code",
   "execution_count": 4,
   "metadata": {},
   "outputs": [
    {
     "name": "stdout",
     "output_type": "stream",
     "text": [
      "<bound method NDFrame.head of      Sex  Age  Category  Survived\n",
      "0      1   62         1         0\n",
      "1      0   22         0         0\n",
      "2      0   21         0         0\n",
      "3      1   53         0         0\n",
      "4      0   55         1         0\n",
      "..   ...  ...       ...       ...\n",
      "984    0   60         1         0\n",
      "985    1   34         1         1\n",
      "986    1   77         1         0\n",
      "987    0   87         1         0\n",
      "988    1   42         1         1\n",
      "\n",
      "[989 rows x 4 columns]>\n"
     ]
    }
   ],
   "source": [
    "Sex = data['Sex']\n",
    "label_encoder = LabelEncoder()\n",
    "Sex = label_encoder.fit_transform(Sex)\n",
    "data['Sex'] = Sex\n",
    "print(data.head)\n",
    "X_train, X_test, Y_train, Y_test = train_test_split(data.iloc[:,: 3], data['Survived'], random_state=0)"
   ]
  },
  {
   "cell_type": "code",
   "execution_count": 5,
   "metadata": {},
   "outputs": [
    {
     "name": "stdout",
     "output_type": "stream",
     "text": [
      "Counter({0: 642, 1: 99})\n",
      "Counter({0: 642, 1: 642})\n"
     ]
    }
   ],
   "source": [
    "from imblearn.over_sampling import SMOTE\n",
    "from collections import Counter \n",
    "print(Counter(Y_train))\n",
    "oversample = SMOTE()\n",
    "X_train, Y_train = oversample.fit_resample(X_train,Y_train)\n",
    "print(Counter(Y_train))\n"
   ]
  },
  {
   "cell_type": "code",
   "execution_count": 9,
   "metadata": {},
   "outputs": [
    {
     "name": "stdout",
     "output_type": "stream",
     "text": [
      "Counter({0: 210, 1: 38}) Counter({0: 140, 1: 108})\n"
     ]
    }
   ],
   "source": [
    "from sklearn.tree import DecisionTreeClassifier\n",
    "tree_clf = DecisionTreeClassifier(max_depth=3)\n",
    "tree_clf.fit(X_train,Y_train)\n",
    "test_guesses = tree_clf.predict(X_test)\n",
    "print(Counter(Y_test),Counter(test_guesses))"
   ]
  },
  {
   "cell_type": "code",
   "execution_count": 10,
   "metadata": {},
   "outputs": [
    {
     "data": {
      "image/png": "[encoded data removed]",
      "text/plain": [
       "<Figure size 432x288 with 1 Axes>"
      ]
     },
     "metadata": {
      "needs_background": "light"
     },
     "output_type": "display_data"
    }
   ],
   "source": [
    "from sklearn import tree\n",
    "tree.plot_tree(tree_clf);"
   ]
  },
  {
   "cell_type": "code",
   "execution_count": 11,
   "metadata": {},
   "outputs": [
    {
     "name": "stdout",
     "output_type": "stream",
     "text": [
      "[[130  80]\n",
      " [ 10  28]]\n"
     ]
    }
   ],
   "source": [
    "from sklearn.metrics import confusion_matrix\n",
    "expected = Y_test\n",
    "predicted = test_guesses\n",
    "results = confusion_matrix(expected, predicted)\n",
    "print(results)"
   ]
  },
  {
   "cell_type": "code",
   "execution_count": null,
   "metadata": {},
   "outputs": [],
   "source": [
    "# by oversampling the data we are able to better predict who will survive but at the loss of a being able to predict who will die. Before we predicted all died and now we predict that 56 percent will die. In actuality around 85% would die. To improve this we may need to use a different algorithm or reduce the amount of oversampling that we do."
   ]
  }
 ],
 "metadata": {
  "kernelspec": {
   "display_name": "Python 3",
   "language": "python",
   "name": "python3"
  },
  "language_info": {
   "codemirror_mode": {
    "name": "ipython",
    "version": 3
   },
   "file_extension": ".py",
   "mimetype": "text/x-python",
   "name": "python",
   "nbconvert_exporter": "python",
   "pygments_lexer": "ipython3",
   "version": "3.8.5"
  }
 },
 "nbformat": 4,
 "nbformat_minor": 4
}
