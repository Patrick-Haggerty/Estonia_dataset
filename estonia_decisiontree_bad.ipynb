{
 "cells": [
  {
   "cell_type": "code",
   "execution_count": 1,
   "metadata": {},
   "outputs": [],
   "source": [
    "import pandas as pd\n",
    "from sklearn.model_selection import train_test_split\n",
    "data = pd.read_csv(r'C:\\Users\\16pha\\myenv\\datasets\\estonia_data.csv')"
   ]
  },
  {
   "cell_type": "code",
   "execution_count": 2,
   "metadata": {},
   "outputs": [
    {
     "name": "stdout",
     "output_type": "stream",
     "text": [
      "<bound method NDFrame.head of      PassengerId  Country             Firstname  Lastname Sex  Age Category  \\\n",
      "0              1   Sweden           ARVID KALLE     AADLI   M   62        P   \n",
      "1              2  Estonia                   LEA   AALISTE   F   22        C   \n",
      "2              3  Estonia                  AIRI   AAVASTE   F   21        C   \n",
      "3              4   Sweden                  JURI     AAVIK   M   53        C   \n",
      "4              5   Sweden       BRITTA ELISABET  AHLSTROM   F   55        P   \n",
      "..           ...      ...                   ...       ...  ..  ...      ...   \n",
      "984          985   Sweden  ANNA INGRID BIRGITTA    OSTROM   F   60        P   \n",
      "985          986   Sweden          ELMAR MIKAEL       OUN   M   34        P   \n",
      "986          987   Sweden                   ENN   QUNAPUU   M   77        P   \n",
      "987          988   Sweden                    LY   GUNAPUU   F   87        P   \n",
      "988          989   Sweden                  CARL    OVBERG   M   42        P   \n",
      "\n",
      "     Survived  \n",
      "0           0  \n",
      "1           0  \n",
      "2           0  \n",
      "3           0  \n",
      "4           0  \n",
      "..        ...  \n",
      "984         0  \n",
      "985         1  \n",
      "986         0  \n",
      "987         0  \n",
      "988         1  \n",
      "\n",
      "[989 rows x 8 columns]>\n"
     ]
    }
   ],
   "source": [
    "print(data.head)"
   ]
  },
  {
   "cell_type": "code",
   "execution_count": 3,
   "metadata": {},
   "outputs": [
    {
     "name": "stdout",
     "output_type": "stream",
     "text": [
      "<bound method NDFrame.head of     Sex  Age Category  Survived\n",
      "0     M   62        P         0\n",
      "1     F   22        C         0\n",
      "2     F   21        C         0\n",
      "3     M   53        C         0\n",
      "4     F   55        P         0\n",
      "..   ..  ...      ...       ...\n",
      "984   F   60        P         0\n",
      "985   M   34        P         1\n",
      "986   M   77        P         0\n",
      "987   F   87        P         0\n",
      "988   M   42        P         1\n",
      "\n",
      "[989 rows x 4 columns]>\n"
     ]
    }
   ],
   "source": [
    "drop_cols = ['PassengerId','Country','Firstname','Lastname']\n",
    "data = data.drop(drop_cols,axis=1)\n",
    "print(data.head)"
   ]
  },
  {
   "cell_type": "code",
   "execution_count": 4,
   "metadata": {},
   "outputs": [],
   "source": [
    "from sklearn.preprocessing import LabelEncoder\n",
    "Category = data['Category']\n",
    "label_encoder = LabelEncoder()\n",
    "Category = label_encoder.fit_transform(Category)\n"
   ]
  },
  {
   "cell_type": "code",
   "execution_count": 5,
   "metadata": {},
   "outputs": [
    {
     "name": "stdout",
     "output_type": "stream",
     "text": [
      "<bound method NDFrame.head of     Sex  Age  Category  Survived\n",
      "0     M   62         1         0\n",
      "1     F   22         0         0\n",
      "2     F   21         0         0\n",
      "3     M   53         0         0\n",
      "4     F   55         1         0\n",
      "..   ..  ...       ...       ...\n",
      "984   F   60         1         0\n",
      "985   M   34         1         1\n",
      "986   M   77         1         0\n",
      "987   F   87         1         0\n",
      "988   M   42         1         1\n",
      "\n",
      "[989 rows x 4 columns]>\n"
     ]
    }
   ],
   "source": [
    "data['Category'] = Category\n",
    "print(data.head)"
   ]
  },
  {
   "cell_type": "code",
   "execution_count": 6,
   "metadata": {},
   "outputs": [
    {
     "name": "stdout",
     "output_type": "stream",
     "text": [
      "<bound method NDFrame.head of      Sex  Age  Category  Survived\n",
      "0      1   62         1         0\n",
      "1      0   22         0         0\n",
      "2      0   21         0         0\n",
      "3      1   53         0         0\n",
      "4      0   55         1         0\n",
      "..   ...  ...       ...       ...\n",
      "984    0   60         1         0\n",
      "985    1   34         1         1\n",
      "986    1   77         1         0\n",
      "987    0   87         1         0\n",
      "988    1   42         1         1\n",
      "\n",
      "[989 rows x 4 columns]>\n"
     ]
    }
   ],
   "source": [
    "Sex = data['Sex']\n",
    "label_encoder = LabelEncoder()\n",
    "Sex = label_encoder.fit_transform(Sex)\n",
    "data['Sex'] = Sex\n",
    "print(data.head)\n",
    "X_train, X_test, Y_train, Y_test = train_test_split(data.iloc[:,: 3], data['Survived'], random_state=0)"
   ]
  },
  {
   "cell_type": "code",
   "execution_count": 7,
   "metadata": {},
   "outputs": [
    {
     "data": {
      "text/plain": [
       "DecisionTreeClassifier(max_depth=3)"
      ]
     },
     "execution_count": 7,
     "metadata": {},
     "output_type": "execute_result"
    }
   ],
   "source": [
    "from sklearn.tree import DecisionTreeClassifier\n",
    "tree_clf = DecisionTreeClassifier(max_depth=3)\n",
    "tree_clf.fit(X_train,Y_train)"
   ]
  },
  {
   "cell_type": "code",
   "execution_count": 8,
   "metadata": {},
   "outputs": [
    {
     "data": {
      "text/plain": [
       "array([0, 0, 0, 0, 0, 0, 0, 0, 0, 0, 0, 0, 0, 0, 0, 0, 0, 0, 0, 0, 0, 0,\n",
       "       0, 0, 0, 0, 0, 0, 0, 0, 0, 0, 0, 0, 0, 0, 0, 0, 0, 0, 0, 0, 0, 0,\n",
       "       0, 0, 0, 0, 0, 0, 0, 0, 0, 0, 0, 0, 0, 0, 0, 0, 0, 0, 0, 0, 0, 0,\n",
       "       0, 0, 0, 0, 0, 0, 0, 0, 0, 0, 0, 0, 0, 0, 0, 0, 0, 0, 0, 0, 0, 0,\n",
       "       0, 0, 0, 0, 0, 0, 0, 0, 0, 0, 0, 0, 0, 0, 0, 0, 0, 0, 0, 0, 0, 0,\n",
       "       0, 0, 0, 0, 0, 0, 0, 0, 0, 0, 0, 0, 0, 0, 0, 0, 0, 0, 0, 0, 0, 0,\n",
       "       0, 0, 0, 0, 0, 0, 0, 0, 0, 0, 0, 0, 0, 0, 0, 0, 0, 0, 0, 0, 0, 0,\n",
       "       0, 0, 0, 0, 0, 0, 0, 0, 0, 0, 0, 0, 0, 0, 0, 0, 0, 0, 0, 0, 0, 0,\n",
       "       0, 0, 0, 0, 0, 0, 0, 0, 0, 0, 0, 0, 0, 0, 0, 0, 0, 0, 0, 0, 0, 0,\n",
       "       0, 0, 0, 0, 0, 0, 0, 0, 0, 0, 0, 0, 0, 0, 0, 0, 0, 0, 0, 0, 0, 0,\n",
       "       0, 0, 0, 0, 0, 0, 0, 0, 0, 0, 0, 0, 0, 0, 0, 0, 0, 0, 0, 0, 0, 0,\n",
       "       0, 0, 0, 0, 0, 0], dtype=int64)"
      ]
     },
     "execution_count": 8,
     "metadata": {},
     "output_type": "execute_result"
    }
   ],
   "source": [
    "tree_clf.predict(X_test)"
   ]
  },
  {
   "cell_type": "code",
   "execution_count": 9,
   "metadata": {},
   "outputs": [
    {
     "data": {
      "image/png": "[encoded data removed]",
      "text/plain": [
       "<Figure size 432x288 with 1 Axes>"
      ]
     },
     "metadata": {
      "needs_background": "light"
     },
     "output_type": "display_data"
    }
   ],
   "source": [
    "from sklearn import tree\n",
    "tree.plot_tree(tree_clf);"
   ]
  },
  {
   "cell_type": "code",
   "execution_count": 10,
   "metadata": {},
   "outputs": [],
   "source": [
    "# bad because decision trees do not work well on unbalanced datasets. Predicted that all of the test set would have died because the decision at the end of every tree showed a higher probability of death."
   ]
  }
 ],
 "metadata": {
  "kernelspec": {
   "display_name": "Python 3",
   "language": "python",
   "name": "python3"
  },
  "language_info": {
   "codemirror_mode": {
    "name": "ipython",
    "version": 3
   },
   "file_extension": ".py",
   "mimetype": "text/x-python",
   "name": "python",
   "nbconvert_exporter": "python",
   "pygments_lexer": "ipython3",
   "version": "3.8.5"
  }
 },
 "nbformat": 4,
 "nbformat_minor": 4
}
